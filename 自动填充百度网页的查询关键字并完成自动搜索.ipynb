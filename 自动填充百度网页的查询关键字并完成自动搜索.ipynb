{
 "cells": [
  {
   "cell_type": "code",
   "execution_count": 2,
   "id": "fa4fac54",
   "metadata": {},
   "outputs": [
    {
     "name": "stderr",
     "output_type": "stream",
     "text": [
      "<ipython-input-2-8457e0149d3a>:3: DeprecationWarning: executable_path has been deprecated, please pass in a Service object\n",
      "  driver = webdriver.Firefox(executable_path=r'F:\\browserdriver\\geckodriver-v0.30.0-win64\\geckodriver.exe')\n"
     ]
    }
   ],
   "source": [
    "from selenium import webdriver\n",
    "\n",
    "driver = webdriver.Firefox(executable_path=r'F:\\browserdriver\\geckodriver-v0.30.0-win64\\geckodriver.exe')\n",
    "driver.get(\"https://www.baidu.com/\")"
   ]
  },
  {
   "cell_type": "code",
   "execution_count": 5,
   "id": "667ea89e",
   "metadata": {},
   "outputs": [
    {
     "name": "stdout",
     "output_type": "stream",
     "text": [
      "<selenium.webdriver.remote.webelement.WebElement (session=\"4ad28784-ef43-43e5-bfb5-76f7a32f78c8\", element=\"7daf3212-b52d-448e-9978-d014ec5e8b14\")>\n",
      "{'x': 135, 'y': 17}\n",
      "{'height': 38.0, 'width': 503.0}\n",
      "None\n",
      "\n"
     ]
    },
    {
     "name": "stderr",
     "output_type": "stream",
     "text": [
      "<ipython-input-5-576284dabf74>:1: DeprecationWarning: find_element_by_* commands are deprecated. Please use find_element() instead\n",
      "  p_input = driver.find_element_by_id('kw')\n"
     ]
    }
   ],
   "source": [
    "p_input = driver.find_element_by_id('kw')\n",
    "print(p_input)\n",
    "print(p_input.location)\n",
    "print(p_input.size)\n",
    "print(p_input.send_keys('一只特立独行的猪'))\n",
    "print(p_input.text)\n"
   ]
  },
  {
   "cell_type": "code",
   "execution_count": 6,
   "id": "cdde8d74",
   "metadata": {},
   "outputs": [
    {
     "name": "stderr",
     "output_type": "stream",
     "text": [
      "<ipython-input-6-acaa93be5b38>:1: DeprecationWarning: find_element_by_* commands are deprecated. Please use find_element() instead\n",
      "  p_btn = driver.find_element_by_id('su')\n"
     ]
    }
   ],
   "source": [
    "p_btn = driver.find_element_by_id('su')\n",
    "p_btn.click()"
   ]
  },
  {
   "cell_type": "code",
   "execution_count": null,
   "id": "a0582cca",
   "metadata": {},
   "outputs": [],
   "source": []
  }
 ],
 "metadata": {
  "kernelspec": {
   "display_name": "Python 3",
   "language": "python",
   "name": "python3"
  },
  "language_info": {
   "codemirror_mode": {
    "name": "ipython",
    "version": 3
   },
   "file_extension": ".py",
   "mimetype": "text/x-python",
   "name": "python",
   "nbconvert_exporter": "python",
   "pygments_lexer": "ipython3",
   "version": "3.8.8"
  }
 },
 "nbformat": 4,
 "nbformat_minor": 5
}
