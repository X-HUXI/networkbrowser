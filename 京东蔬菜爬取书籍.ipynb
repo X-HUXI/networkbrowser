{
 "cells": [
  {
   "cell_type": "code",
   "execution_count": 8,
   "id": "5c81c486",
   "metadata": {},
   "outputs": [
    {
     "name": "stderr",
     "output_type": "stream",
     "text": [
      "<ipython-input-8-75d1eed194f4>:8: DeprecationWarning: executable_path has been deprecated, please pass in a Service object\n",
      "  driver = webdriver.Firefox(executable_path=r'F:\\browserdriver\\geckodriver-v0.30.0-win64\\geckodriver.exe')\n",
      "<ipython-input-8-75d1eed194f4>:13: DeprecationWarning: find_element_by_* commands are deprecated. Please use find_element() instead\n",
      "  p_input = driver.find_element_by_id('key')\n",
      "<ipython-input-8-75d1eed194f4>:17: DeprecationWarning: find_element_by_* commands are deprecated. Please use find_element() instead\n",
      "  button=driver.find_element_by_class_name(\"button\").click()\n",
      "<ipython-input-8-75d1eed194f4>:65: DeprecationWarning: find_element_by_* commands are deprecated. Please use find_element() instead\n",
      "  driver.find_element_by_class_name('pn-next').click()  # 点击下一页\n"
     ]
    }
   ],
   "source": [
    "import time\n",
    "import csv\n",
    "from bs4 import BeautifulSoup as bs\n",
    "from selenium import webdriver\n",
    "from selenium.webdriver.common.keys import Keys\n",
    "import time\n",
    "from lxml import etree\n",
    "driver = webdriver.Firefox(executable_path=r'F:\\browserdriver\\geckodriver-v0.30.0-win64\\geckodriver.exe')\n",
    "# 京东所在网站\n",
    "driver.get(\"https://www.jd.com/\")\n",
    "\n",
    "# 输入需要查找的关键字\n",
    "p_input = driver.find_element_by_id('key')\n",
    "p_input.send_keys('网络爬虫')  # 找到输入框输入\n",
    "time.sleep(1)\n",
    "# 点击搜素按钮\n",
    "button=driver.find_element_by_class_name(\"button\").click()\n",
    "time.sleep(1)\n",
    "all_book_info = []\n",
    "num=200\n",
    "head=['书名', '价格', '作者', '出版社']\n",
    "#csv文件的路径和名字\n",
    "path='网络爬虫.csv'\n",
    "def write_csv(head,all_book_info,path):\n",
    "    with open(path, 'w', newline='',encoding='utf-8') as file:\n",
    "        fileWriter =csv.writer(file)\n",
    "        fileWriter.writerow(head)\n",
    "        fileWriter.writerows(all_book_info) \n",
    "# 爬取一页\n",
    "def get_onePage_info(web,num):\n",
    "    driver.execute_script('window.scrollTo(0, document.body.scrollHeight);')\n",
    "    time.sleep(2)\n",
    "    page_text =driver.page_source\n",
    "    # with open('3-.html', 'w', encoding='utf-8')as fp:\n",
    "    #     fp.write(page_text)\n",
    "    # 进行解析\n",
    "    tree = etree.HTML(page_text)\n",
    "    li_list = tree.xpath('//li[contains(@class,\"gl-item\")]')\n",
    "    for li in li_list:\n",
    "        num=num-1\n",
    "        book_infos = []\n",
    "        book_name = ''.join(li.xpath('.//div[@class=\"p-name\"]/a/em/text()'))     # 书名\n",
    "        book_infos.append(book_name)\n",
    "        price = '￥' + li.xpath('.//div[@class=\"p-price\"]/strong/i/text()')[0]   # 价格\n",
    "        book_infos.append(price)\n",
    "        author_span = li.xpath('.//span[@class=\"p-bi-name\"]/a/text()')\n",
    "        if len(author_span) > 0:  # 作者\n",
    "            author = author_span[0]\n",
    "        else:\n",
    "            author = '无'\n",
    "        book_infos.append(author)\n",
    "        store_span = li.xpath('.//span[@class=\"p-bi-store\"]/a[1]/text()')  # 出版社\n",
    "        if len(store_span) > 0:\n",
    "            store = store_span[0]\n",
    "        else:\n",
    "            store = '无'\n",
    "        book_infos.append(store)\n",
    "        all_book_info.append(book_infos)\n",
    "        if num==0:\n",
    "            break\n",
    "    return num\n",
    "\n",
    "while num!=0:\n",
    "    num=get_onePage_info(driver,num)\n",
    "    driver.find_element_by_class_name('pn-next').click()  # 点击下一页\n",
    "    time.sleep(2)\n",
    "write_csv(head,all_book_info,path)\n",
    "driver.close()"
   ]
  },
  {
   "cell_type": "code",
   "execution_count": null,
   "id": "e98dd7e0",
   "metadata": {},
   "outputs": [],
   "source": []
  }
 ],
 "metadata": {
  "kernelspec": {
   "display_name": "Python 3",
   "language": "python",
   "name": "python3"
  },
  "language_info": {
   "codemirror_mode": {
    "name": "ipython",
    "version": 3
   },
   "file_extension": ".py",
   "mimetype": "text/x-python",
   "name": "python",
   "nbconvert_exporter": "python",
   "pygments_lexer": "ipython3",
   "version": "3.8.8"
  }
 },
 "nbformat": 4,
 "nbformat_minor": 5
}
